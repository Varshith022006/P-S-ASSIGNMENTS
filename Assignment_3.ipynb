{
  "nbformat": 4,
  "nbformat_minor": 0,
  "metadata": {
    "colab": {
      "provenance": [],
      "include_colab_link": true
    },
    "kernelspec": {
      "name": "python3",
      "display_name": "Python 3"
    },
    "language_info": {
      "name": "python"
    }
  },
  "cells": [
    {
      "cell_type": "markdown",
      "metadata": {
        "id": "view-in-github",
        "colab_type": "text"
      },
      "source": [
        "<a href=\"https://colab.research.google.com/github/Varshith022006/P-S-ASSIGNMENTS/blob/main/Assignment_3.ipynb\" target=\"_parent\"><img src=\"https://colab.research.google.com/assets/colab-badge.svg\" alt=\"Open In Colab\"/></a>"
      ]
    },
    {
      "cell_type": "code",
      "execution_count": null,
      "metadata": {
        "colab": {
          "base_uri": "https://localhost:8080/"
        },
        "id": "d8kj4zhyVwhb",
        "outputId": "a6c83475-e2f3-4257-cad1-f3cf7c0c36cf"
      },
      "outputs": [
        {
          "output_type": "stream",
          "name": "stdout",
          "text": [
            "Median (numpy): 45.0\n",
            "Mode (numpy): 45\n",
            "Mode (pandas): 45\n"
          ]
        }
      ],
      "source": [
        "import numpy as np\n",
        "import pandas as pd\n",
        "from scipy import stats\n",
        "data = [12, 45, 67, 23, 45, 89, 45, 12, 33, 67, 67, 78, 45, 23, 23, 56, 89, 45, 33, 45]\n",
        "median_numpy = np.median(data)\n",
        "mode_result = stats.mode(data, keepdims=False)\n",
        "mode_numpy = mode_result.mode\n",
        "mode_pandas = pd.Series(data).mode().iloc[0]\n",
        "print(\"Median (numpy):\", median_numpy)\n",
        "print(\"Mode (numpy):\", mode_numpy)\n",
        "print(\"Mode (pandas):\", mode_pandas)"
      ]
    },
    {
      "cell_type": "code",
      "source": [
        "import numpy as np\n",
        "import pandas as pd\n",
        "scores = [10, 20, 30, 40, 50]\n",
        "frequencies = [5, 8, 12, 15, 7]\n",
        "expanded_data = []\n",
        "for score, freq in zip(scores, frequencies):\n",
        "    expanded_data.extend([score] * freq)\n",
        "median_numpy = np.median(expanded_data)\n",
        "mode_numpy = max(zip(frequencies, scores))[1]\n",
        "expanded_series = pd.Series(expanded_data)\n",
        "mode_pandas = expanded_series.mode().iloc[0]\n",
        "print(\"Median (numpy):\", median_numpy)\n",
        "print(\"Mode (numpy):\", mode_numpy)\n",
        "print(\"Mode (pandas):\", mode_pandas)"
      ],
      "metadata": {
        "colab": {
          "base_uri": "https://localhost:8080/"
        },
        "id": "5J-4k9VKayvI",
        "outputId": "3c453b2a-77c5-4399-bf88-99c71d4758a6"
      },
      "execution_count": null,
      "outputs": [
        {
          "output_type": "stream",
          "name": "stdout",
          "text": [
            "Median (numpy): 30.0\n",
            "Mode (numpy): 40\n",
            "Mode (pandas): 40\n"
          ]
        }
      ]
    },
    {
      "cell_type": "code",
      "source": [
        "class_intervals = [(0, 10), (10, 20), (20, 30), (30, 40), (40, 50)]\n",
        "frequencies = [4, 6, 10, 8, 2]\n",
        "N = sum(frequencies)\n",
        "cum_freq = [sum(frequencies[:i+1]) for i in range(len(frequencies))]\n",
        "median_class_index = next(i for i, cf in enumerate(cum_freq) if cf >= N / 2)\n",
        "L = class_intervals[median_class_index][0]\n",
        "f = frequencies[median_class_index]\n",
        "CF_prev = cum_freq[median_class_index - 1] if median_class_index > 0 else 0\n",
        "h = class_intervals[median_class_index][1] - class_intervals[median_class_index][0]\n",
        "median = L + ((N / 2 - CF_prev) / f) * h\n",
        "mode_class_index = frequencies.index(max(frequencies))\n",
        "L_mode = class_intervals[mode_class_index][0]\n",
        "f1 = frequencies[mode_class_index]\n",
        "f0 = frequencies[mode_class_index - 1] if mode_class_index > 0 else 0\n",
        "f2 = frequencies[mode_class_index + 1] if mode_class_index < len(frequencies) - 1 else 0\n",
        "mode = L_mode + ((f1 - f0) / (2 * f1 - f0 - f2)) * h\n",
        "print(\"Median:\", median)\n",
        "print(\"Mode:\", mode)\n"
      ],
      "metadata": {
        "colab": {
          "base_uri": "https://localhost:8080/"
        },
        "id": "-HiUCsPzdfX3",
        "outputId": "4dcb3a0b-bcf3-44c3-9233-a060055df5d0"
      },
      "execution_count": null,
      "outputs": [
        {
          "output_type": "stream",
          "name": "stdout",
          "text": [
            "Median: 25.0\n",
            "Mode: 26.666666666666664\n"
          ]
        }
      ]
    }
  ]
}