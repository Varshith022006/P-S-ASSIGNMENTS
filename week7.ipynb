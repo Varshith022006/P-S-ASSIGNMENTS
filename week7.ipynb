{
  "nbformat": 4,
  "nbformat_minor": 0,
  "metadata": {
    "colab": {
      "provenance": [],
      "authorship_tag": "ABX9TyN1nHgZyE9jn3GXcr2QYhGv",
      "include_colab_link": true
    },
    "kernelspec": {
      "name": "python3",
      "display_name": "Python 3"
    },
    "language_info": {
      "name": "python"
    }
  },
  "cells": [
    {
      "cell_type": "markdown",
      "metadata": {
        "id": "view-in-github",
        "colab_type": "text"
      },
      "source": [
        "<a href=\"https://colab.research.google.com/github/Varshith022006/P-S-ASSIGNMENTS/blob/main/week7.ipynb\" target=\"_parent\"><img src=\"https://colab.research.google.com/assets/colab-badge.svg\" alt=\"Open In Colab\"/></a>"
      ]
    },
    {
      "cell_type": "code",
      "execution_count": 3,
      "metadata": {
        "colab": {
          "base_uri": "https://localhost:8080/"
        },
        "id": "VmfOkEnBrdj9",
        "outputId": "483e2150-0750-487d-b393-a06061ee02c8"
      },
      "outputs": [
        {
          "output_type": "stream",
          "name": "stdout",
          "text": [
            "Sample Mean: ₹27466.67\n",
            "Sample Standard Deviation: ₹3748.65\n",
            "95% Confidence Interval: ₹25390.73 to ₹29542.60\n",
            "T-value for 95% Confidence Interval: 2.14\n",
            "Margin of Error: ₹2075.93\n",
            "\n",
            "Conclusion: Reject the null hypothesis. The actual average cost of living is significantly different from ₹30,000.\n"
          ]
        }
      ],
      "source": [
        "import numpy as np\n",
        "import scipy.stats as stats\n",
        "\n",
        "# Data\n",
        "data = [25000, 31000, 20000, 28000, 29500, 32000, 21000, 30500, 27000, 28500, 30000, 23000, 31000, 26000, 29500]\n",
        "\n",
        "# Sample size\n",
        "n = len(data)\n",
        "\n",
        "# Sample mean\n",
        "sample_mean = np.mean(data)\n",
        "\n",
        "# Sample standard deviation\n",
        "sample_std = np.std(data, ddof=1)\n",
        "\n",
        "# Degrees of freedom\n",
        "df = n - 1\n",
        "\n",
        "# Critical t-value for 95% confidence interval\n",
        "t_value = stats.t.ppf(0.975, df)\n",
        "\n",
        "# Standard error\n",
        "standard_error = sample_std / np.sqrt(n)\n",
        "\n",
        "# Confidence interval\n",
        "margin_of_error = t_value * standard_error\n",
        "confidence_interval = (sample_mean - margin_of_error, sample_mean + margin_of_error)\n",
        "\n",
        "# Hypothesis testing: null hypothesis is that the true mean is 30000\n",
        "claimed_mean = 30000\n",
        "\n",
        "# Output the results\n",
        "print(f\"Sample Mean: ₹{sample_mean:.2f}\")\n",
        "print(f\"Sample Standard Deviation: ₹{sample_std:.2f}\")\n",
        "print(f\"95% Confidence Interval: ₹{confidence_interval[0]:.2f} to ₹{confidence_interval[1]:.2f}\")\n",
        "print(f\"T-value for 95% Confidence Interval: {t_value:.2f}\")\n",
        "print(f\"Margin of Error: ₹{margin_of_error:.2f}\")\n",
        "\n",
        "# Hypothesis test\n",
        "if confidence_interval[0] <= claimed_mean <= confidence_interval[1]:\n",
        "    print(\"\\nConclusion: Fail to reject the null hypothesis. The actual average cost of living is not significantly different from ₹30,000.\")\n",
        "else:\n",
        "    print(\"\\nConclusion: Reject the null hypothesis. The actual average cost of living is significantly different from ₹30,000.\")\n"
      ]
    }
  ]
}